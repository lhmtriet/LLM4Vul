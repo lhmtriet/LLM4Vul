{
 "cells": [
  {
   "cell_type": "code",
   "execution_count": 1,
   "metadata": {},
   "outputs": [],
   "source": [
    "import os\n",
    "import pandas as pd\n",
    "import utils.DataUtils as DataUtils\n",
    "import importlib"
   ]
  },
  {
   "cell_type": "code",
   "execution_count": 2,
   "metadata": {},
   "outputs": [
    {
     "name": "stdout",
     "output_type": "stream",
     "text": [
      "Working folder:\n",
      "/Users/tungthai/Library/CloudStorage/OneDrive-Personal/AdelaideStudy/2023/Trimester2/Project A/git/LLM_SV/Vulnerability Prediction/trimester3\n"
     ]
    }
   ],
   "source": [
    "# 1. Get working folder\n",
    "working_folder = DataUtils.get_current_folder()\n",
    "print(\"Working folder:\")\n",
    "print(working_folder)\n",
    "\n",
    "# 2. Get parser for removing code comments\n",
    "parser = DataUtils.init_parser(working_folder=working_folder, list_languages=['rust', 'kotlin'])"
   ]
  },
  {
   "cell_type": "code",
   "execution_count": 17,
   "metadata": {},
   "outputs": [
    {
     "name": "stdout",
     "output_type": "stream",
     "text": [
      "Kotlin\n",
      "Total unique project: 4\n",
      "Total lines of code: 1253\n",
      "Total vul lines: 45\n",
      "Total non-vul lines: 1208\n",
      "Swift\n",
      "Total unique project: 7\n",
      "Total lines of code: 8195\n",
      "Total vul lines: 104\n",
      "Total non-vul lines: 8091\n",
      "Rust\n",
      "Total unique project: 19\n",
      "Total lines of code: 26829\n",
      "Total vul lines: 350\n",
      "Total non-vul lines: 26479\n"
     ]
    }
   ],
   "source": [
    "def show_information(dataset_name):\n",
    "    \n",
    "    dataset = pd.read_parquet(working_folder + f\"/data/{dataset_name}_data.parquet\")\n",
    "    #display(dataset)\n",
    "\n",
    "    # Replace NaN with an empty string\n",
    "    dataset['mod_lines'] = dataset['mod_lines'].fillna('')\n",
    "\n",
    "    # Function to count the number of modified lines\n",
    "    def count_mod_lines(mod_line):\n",
    "        # Split by comma and filter out empty strings\n",
    "        lines = [line for line in mod_line.split(',') if line]\n",
    "        return len(lines)\n",
    "\n",
    "    # Apply the function to each row and create a new column 'total_mod_lines'\n",
    "    dataset['total_mod_lines'] = dataset['mod_lines'].apply(count_mod_lines)\n",
    "\n",
    "    # Calculate the sum of all modified lines\n",
    "    total_modified_lines = dataset['total_mod_lines'].sum()\n",
    "\n",
    "    # Count the lines of code in each entry by counting '\\n' and adding 1\n",
    "    dataset['lines_of_code'] = dataset['code'].str.count('\\n') + 1\n",
    "\n",
    "    # Calculate the sum of lines of code for all entries\n",
    "    total_lines_of_code = dataset['lines_of_code'].sum()\n",
    "\n",
    "    print(dataset_name)\n",
    "    print(f\"Total unique project: {dataset['repo_url'].nunique()}\")\n",
    "    print(f'Total lines of code: {total_lines_of_code}')\n",
    "    print(f'Total vul lines: {total_modified_lines}')\n",
    "    print(f'Total non-vul lines:', total_lines_of_code-total_modified_lines)\n",
    "    \n",
    "show_information(\"Kotlin\")\n",
    "show_information(\"Swift\")\n",
    "show_information(\"Rust\")"
   ]
  },
  {
   "cell_type": "markdown",
   "metadata": {},
   "source": [
    "kotlin project: 4, mod lines: 45\n",
    "swift project 7, mod lines: 104\n",
    "rust project 19m mod lines: 350"
   ]
  },
  {
   "cell_type": "code",
   "execution_count": null,
   "metadata": {},
   "outputs": [],
   "source": [
    "DataUtils.read_language_dataset(\"kotlin\", working_folder, parser)\n",
    "DataUtils.read_language_dataset(\"swift\", working_folder, parser)\n",
    "DataUtils.read_language_dataset(\"rust\", working_folder, parser)"
   ]
  },
  {
   "cell_type": "code",
   "execution_count": 6,
   "metadata": {},
   "outputs": [],
   "source": [
    "swift_path = os.path.join(working_folder, f\"data/swift/data_with_comments_single_before_change.csv\")\n",
    "swift_data = pd.read_csv(swift_path)\n",
    "\n",
    "swift_data['processed_func'] = swift_data['processed_func'].apply(lambda code: DataUtils.remove_comments(parser, code, 'swift'))\n",
    "\n",
    "output_path = os.path.join(working_folder, f\"data/swift/data_single.csv\")\n",
    "swift_data.to_csv(output_path, index=False)"
   ]
  },
  {
   "cell_type": "code",
   "execution_count": 8,
   "metadata": {},
   "outputs": [],
   "source": [
    "rust_path = os.path.join(working_folder, f\"data/rust/data_with_comments_single_before_change.csv\")\n",
    "rust_data = pd.read_csv(rust_path)\n",
    "\n",
    "rust_data['processed_func'] = rust_data['processed_func'].apply(lambda code: DataUtils.remove_comments(parser, code, 'rust'))\n",
    "\n",
    "output_path = os.path.join(working_folder, f\"data/rust/data_single.csv\")\n",
    "rust_data.to_csv(output_path, index=False)"
   ]
  }
 ],
 "metadata": {
  "kernelspec": {
   "display_name": "base",
   "language": "python",
   "name": "python3"
  },
  "language_info": {
   "codemirror_mode": {
    "name": "ipython",
    "version": 3
   },
   "file_extension": ".py",
   "mimetype": "text/x-python",
   "name": "python",
   "nbconvert_exporter": "python",
   "pygments_lexer": "ipython3",
   "version": "3.10.10"
  },
  "orig_nbformat": 4
 },
 "nbformat": 4,
 "nbformat_minor": 2
}
